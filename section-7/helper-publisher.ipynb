{
 "cells": [
  {
   "cell_type": "code",
   "execution_count": 1,
   "metadata": {},
   "outputs": [],
   "source": [
    "import json\n",
    "import os\n",
    "from google.cloud import pubsub_v1\n",
    "from dotenv import load_dotenv, find_dotenv\n",
    "from concurrent.futures import TimeoutError\n",
    "import time \n",
    "_ = load_dotenv(find_dotenv())"
   ]
  },
  {
   "cell_type": "code",
   "execution_count": 2,
   "metadata": {},
   "outputs": [
    {
     "name": "stderr",
     "output_type": "stream",
     "text": [
      "WARNING: All log messages before absl::InitializeLog() is called are written to STDERR\n",
      "I0000 00:00:1739115647.749538 17471678 check_gcp_environment_no_op.cc:29] ALTS: Platforms other than Linux and Windows are not supported\n"
     ]
    }
   ],
   "source": [
    "#Set up authentication using the service account key\n",
    "SERVICE_ACCOUNT_KEY_PATH = \"../key.json\"\n",
    "GCP_PROJECT_ID=os.getenv('GCP_PROJECT_ID')\n",
    "\n",
    "# Set the environment variable for authentication\n",
    "os.environ[\"GOOGLE_APPLICATION_CREDENTIALS\"] = SERVICE_ACCOUNT_KEY_PATH\n",
    "# Step 2: Define Pub/Sub parameters\n",
    "PROJECT_ID = GCP_PROJECT_ID\n",
    "TOPIC_ID = \"poc-apache-beam\"\n",
    "\n",
    "# Initialize the Pub/Sub Publisher Client\n",
    "publisher = pubsub_v1.PublisherClient()\n",
    "topic_path = publisher.topic_path(PROJECT_ID, TOPIC_ID)\n"
   ]
  },
  {
   "cell_type": "code",
   "execution_count": 3,
   "metadata": {},
   "outputs": [],
   "source": [
    "# Publish a message\n",
    "def publish_message(data):\n",
    "    \"\"\"\n",
    "    Publish a message to the specified Pub/Sub topic.\n",
    "\n",
    "    Args:\n",
    "    - data (str): The message to be published.\n",
    "    \"\"\"\n",
    "    # Convert message to bytes\n",
    "    message_data = data.encode(\"utf-8\")\n",
    "    \n",
    "    # Publish message\n",
    "    future = publisher.publish(topic_path, message_data)\n",
    "    message_id = future.result()  # Wait for the publish to complete\n",
    "    \n",
    "    print(f\"Message published successfully. Message ID: {message_id}\")"
   ]
  },
  {
   "cell_type": "code",
   "execution_count": 6,
   "metadata": {},
   "outputs": [
    {
     "name": "stdout",
     "output_type": "stream",
     "text": [
      "Message published successfully. Message ID: 13891212775601887\n"
     ]
    }
   ],
   "source": [
    "publish_message(\"Hello, Pub/Sub from Kanji!\")"
   ]
  },
  {
   "cell_type": "code",
   "execution_count": 4,
   "metadata": {},
   "outputs": [
    {
     "name": "stdout",
     "output_type": "stream",
     "text": [
      "Publishing 1 to poc-apache-beam\n",
      "Message published successfully. Message ID: 13892680888351915\n",
      "Publishing 2 to poc-apache-beam\n",
      "Message published successfully. Message ID: 13893989315781868\n",
      "Publishing 3 to poc-apache-beam\n",
      "Message published successfully. Message ID: 13949217087995834\n",
      "Publishing 4 to poc-apache-beam\n",
      "Message published successfully. Message ID: 13891863351644406\n",
      "Publishing 5 to poc-apache-beam\n",
      "Message published successfully. Message ID: 13892541983219994\n",
      "Publishing 6 to poc-apache-beam\n",
      "Message published successfully. Message ID: 13892127171053764\n",
      "Publishing 7 to poc-apache-beam\n",
      "Message published successfully. Message ID: 13946556489959334\n",
      "Publishing 8 to poc-apache-beam\n",
      "Message published successfully. Message ID: 13892035677118044\n",
      "Publishing 9 to poc-apache-beam\n",
      "Message published successfully. Message ID: 13894367157165940\n",
      "Publishing 10 to poc-apache-beam\n",
      "Message published successfully. Message ID: 13892178735700598\n",
      "Publishing 11 to poc-apache-beam\n",
      "Message published successfully. Message ID: 13948303131184379\n",
      "Publishing 12 to poc-apache-beam\n",
      "Message published successfully. Message ID: 13892341713534038\n",
      "Publishing 13 to poc-apache-beam\n",
      "Message published successfully. Message ID: 13948302829437000\n",
      "Publishing 14 to poc-apache-beam\n",
      "Message published successfully. Message ID: 13894345495723575\n",
      "Publishing 15 to poc-apache-beam\n",
      "Message published successfully. Message ID: 13892703052370416\n",
      "Publishing 16 to poc-apache-beam\n",
      "Message published successfully. Message ID: 13894314834720320\n",
      "Publishing 17 to poc-apache-beam\n",
      "Message published successfully. Message ID: 13949428186365281\n",
      "Publishing 18 to poc-apache-beam\n",
      "Message published successfully. Message ID: 13949105077721159\n",
      "Publishing 19 to poc-apache-beam\n",
      "Message published successfully. Message ID: 13892765149717394\n",
      "Publishing 20 to poc-apache-beam\n",
      "Message published successfully. Message ID: 13892324784849883\n"
     ]
    }
   ],
   "source": [
    "input_file = \"../data/counts.csv\"\n",
    "\n",
    "with open(input_file, 'rb') as ifp:\n",
    "    # skip header\n",
    "    header = ifp.readline()  \n",
    "    \n",
    "    # loop over each record\n",
    "    for line in ifp:\n",
    "       \n",
    "        event_data = line.decode(\"utf-8\").strip()\n",
    "        print('Publishing {0} to {1}'.format(event_data, TOPIC_ID))\n",
    "        publish_message(event_data)\n",
    "        time.sleep(0.5) \n"
   ]
  },
  {
   "cell_type": "code",
   "execution_count": null,
   "metadata": {},
   "outputs": [],
   "source": []
  }
 ],
 "metadata": {
  "kernelspec": {
   "display_name": "apache-beam",
   "language": "python",
   "name": "python3"
  },
  "language_info": {
   "codemirror_mode": {
    "name": "ipython",
    "version": 3
   },
   "file_extension": ".py",
   "mimetype": "text/x-python",
   "name": "python",
   "nbconvert_exporter": "python",
   "pygments_lexer": "ipython3",
   "version": "3.11.11"
  }
 },
 "nbformat": 4,
 "nbformat_minor": 2
}
