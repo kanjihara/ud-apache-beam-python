{
 "cells": [
  {
   "cell_type": "code",
   "execution_count": 2,
   "metadata": {},
   "outputs": [],
   "source": [
    "import json\n",
    "import os\n",
    "from google.cloud import pubsub_v1\n",
    "from dotenv import load_dotenv, find_dotenv\n",
    "from concurrent.futures import TimeoutError\n",
    "_ = load_dotenv(find_dotenv())"
   ]
  },
  {
   "cell_type": "code",
   "execution_count": 3,
   "metadata": {},
   "outputs": [
    {
     "name": "stderr",
     "output_type": "stream",
     "text": [
      "WARNING: All log messages before absl::InitializeLog() is called are written to STDERR\n",
      "I0000 00:00:1739096308.677159 16484554 check_gcp_environment_no_op.cc:29] ALTS: Platforms other than Linux and Windows are not supported\n"
     ]
    }
   ],
   "source": [
    "#Set up authentication using the service account key\n",
    "SERVICE_ACCOUNT_KEY_PATH = \"../key.json\"\n",
    "GCP_PROJECT_ID=os.getenv('GCP_PROJECT_ID')\n",
    "\n",
    "# Set the environment variable for authentication\n",
    "os.environ[\"GOOGLE_APPLICATION_CREDENTIALS\"] = SERVICE_ACCOUNT_KEY_PATH\n",
    "# Step 2: Define Pub/Sub parameters\n",
    "PROJECT_ID = GCP_PROJECT_ID\n",
    "TOPIC_ID = \"poc-apache-beam\"\n",
    "\n",
    "# Initialize the Pub/Sub Publisher Client\n",
    "publisher = pubsub_v1.PublisherClient()\n",
    "topic_path = publisher.topic_path(PROJECT_ID, TOPIC_ID)\n"
   ]
  },
  {
   "cell_type": "code",
   "execution_count": 4,
   "metadata": {},
   "outputs": [],
   "source": [
    "# Publish a message\n",
    "def publish_message(data):\n",
    "    \"\"\"\n",
    "    Publish a message to the specified Pub/Sub topic.\n",
    "\n",
    "    Args:\n",
    "    - data (str): The message to be published.\n",
    "    \"\"\"\n",
    "    # Convert message to bytes\n",
    "    message_data = data.encode(\"utf-8\")\n",
    "    \n",
    "    # Publish message\n",
    "    future = publisher.publish(topic_path, message_data)\n",
    "    message_id = future.result()  # Wait for the publish to complete\n",
    "    \n",
    "    print(f\"Message published successfully. Message ID: {message_id}\")"
   ]
  },
  {
   "cell_type": "code",
   "execution_count": null,
   "metadata": {},
   "outputs": [
    {
     "name": "stdout",
     "output_type": "stream",
     "text": [
      "Message published successfully. Message ID: 13891260470272601\n"
     ]
    }
   ],
   "source": [
    "publish_message(\"Hello, Pub/Sub from Kanji!\")"
   ]
  },
  {
   "cell_type": "code",
   "execution_count": null,
   "metadata": {},
   "outputs": [],
   "source": []
  }
 ],
 "metadata": {
  "kernelspec": {
   "display_name": "apache-beam",
   "language": "python",
   "name": "python3"
  },
  "language_info": {
   "codemirror_mode": {
    "name": "ipython",
    "version": 3
   },
   "file_extension": ".py",
   "mimetype": "text/x-python",
   "name": "python",
   "nbconvert_exporter": "python",
   "pygments_lexer": "ipython3",
   "version": "3.11.11"
  }
 },
 "nbformat": 4,
 "nbformat_minor": 2
}
