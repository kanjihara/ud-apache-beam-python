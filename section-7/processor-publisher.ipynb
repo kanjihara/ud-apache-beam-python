{
 "cells": [
  {
   "cell_type": "code",
   "execution_count": 24,
   "metadata": {},
   "outputs": [],
   "source": [
    "import apache_beam as beam\n",
    "from apache_beam.options.pipeline_options import PipelineOptions, StandardOptions\n",
    "import os\n",
    "from google.cloud import pubsub_v1\n",
    "from apache_beam import window\n",
    "from dotenv import load_dotenv, find_dotenv\n",
    "_ = load_dotenv(find_dotenv())"
   ]
  },
  {
   "cell_type": "code",
   "execution_count": 26,
   "metadata": {},
   "outputs": [
    {
     "name": "stdout",
     "output_type": "stream",
     "text": [
      "Service account file :  key.json\n"
     ]
    }
   ],
   "source": [
    "GCP_PROJECT_ID=os.getenv('GCP_PROJECT_ID')\n",
    "\n",
    "# Replace 'my-service-account-path' with your service account path\n",
    "SERVICE_ACCOUNT_KEY_PATH = \"key.json\"\n",
    "\n",
    "\n",
    "print(\"Service account file : \", SERVICE_ACCOUNT_KEY_PATH)\n",
    "os.environ[\"GOOGLE_APPLICATION_CREDENTIALS\"] = SERVICE_ACCOUNT_KEY_PATH\n",
    "\n",
    "PROJECT_ID = GCP_PROJECT_ID\n",
    "TOPIC_ID = \"poc-apache-beam\"\n",
    "\n",
    "# Initialize the Pub/Sub Publisher Client\n",
    "publisher = pubsub_v1.PublisherClient()\n",
    "topic_path = publisher.topic_path(PROJECT_ID, TOPIC_ID)\n",
    "\n"
   ]
  },
  {
   "cell_type": "code",
   "execution_count": 37,
   "metadata": {},
   "outputs": [],
   "source": [
    "# Function to read lines from the CSV file in streaming mode\n",
    "def read_csv(_):\n",
    "    with open(\"data/counts.csv\", \"r\") as file:\n",
    "        next(file)  # Skip the header\n",
    "        for line in file:\n",
    "            yield line.strip()  # Send one line at a time\n",
    "\n",
    "# Define the pipeline\n",
    "p = beam.Pipeline(options=options)\n",
    "\n",
    "\n",
    "class BatchMessagePubSub(beam.DoFn):\n",
    "    # Initialize the Pub/Sub Publisher Client\n",
    "    publisher = pubsub_v1.PublisherClient()\n",
    "    topic_path = publisher.topic_path(PROJECT_ID, TOPIC_ID)\n",
    "    # Publish a message\n",
    "    def publish_message(data):\n",
    "        \"\"\"\n",
    "        Publish a message to the specified Pub/Sub topic.\n",
    "\n",
    "        Args:\n",
    "        - data (str): The message to be published.\n",
    "        \"\"\"\n",
    "        # Convert message to bytes\n",
    "        message_data = data.encode(\"utf-8\")\n",
    "        \n",
    "        # Publish message\n",
    "        future = publisher.publish(topic_path, message_data)\n",
    "        message_id = future.result()  # Wait for the publish to complete\n",
    "    \n",
    "    def process(self, line):\n",
    "        event_data = line.decode(\"utf-8\").strip()\n",
    "        self.publish_message(event_data)\n"
   ]
  },
  {
   "cell_type": "code",
   "execution_count": null,
   "metadata": {},
   "outputs": [],
   "source": [
    "GCP_PROJECT_ID=os.getenv('GCP_PROJECT_ID')\n",
    "# projects/<project>/topics/<topic>\n",
    "TOPIC_ADDRESS = f\"projects/{GCP_PROJECT_ID}/topics/poc-apache-beam\"\n",
    "\n",
    "options = PipelineOptions()\n",
    "options.view_as(StandardOptions).streaming = True\n",
    "\n",
    "p = beam.Pipeline(options=options)\n",
    "\n",
    "\n",
    "pubsub_data = (\n",
    "    p \n",
    "    | \"Read from text file\" >> beam.io.ReadFromText('data/counts.csv', skip_header_lines=1)\n",
    "    | \"Reshuffle to Prevent Batch Optimization\" >> beam.Reshuffle()  # Creates an unbounded source effect\n",
    "    | \"Convert to Bytes\" >> beam.Map(lambda row: row.encode(\"utf-8\"))\n",
    "    | 'Write to pus sub' >> beam.ParDo(BatchMessagePubSub())\n",
    "                \n",
    ")\n",
    "\n",
    "result = p.run()\n",
    "result.wait_until_finish()\n"
   ]
  },
  {
   "cell_type": "code",
   "execution_count": null,
   "metadata": {},
   "outputs": [],
   "source": []
  }
 ],
 "metadata": {
  "kernelspec": {
   "display_name": "Python 3 (ipykernel)",
   "language": "python",
   "name": "python3"
  },
  "language_info": {
   "codemirror_mode": {
    "name": "ipython",
    "version": 3
   },
   "file_extension": ".py",
   "mimetype": "text/x-python",
   "name": "python",
   "nbconvert_exporter": "python",
   "pygments_lexer": "ipython3",
   "version": "3.11.6"
  }
 },
 "nbformat": 4,
 "nbformat_minor": 2
}
