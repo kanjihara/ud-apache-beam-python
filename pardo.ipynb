{
 "cells": [
  {
   "cell_type": "code",
   "execution_count": 1,
   "metadata": {},
   "outputs": [],
   "source": [
    "import apache_beam as beam"
   ]
  },
  {
   "cell_type": "code",
   "execution_count": 2,
   "metadata": {},
   "outputs": [],
   "source": [
    "class SplitRow(beam.DoFn):\n",
    "  \n",
    "  def process(self, element):\n",
    "    # return type -> list\n",
    "    return  [element.split(',')]\n",
    "  \n",
    "\n",
    "class FilterAccountsEmployee(beam.DoFn):\n",
    "  \n",
    "  def process(self, element):\n",
    "    if element[3] == 'Accounts':\n",
    "      return [element]  \n",
    "    \n",
    "class PairEmployees(beam.DoFn):\n",
    "  \n",
    "  def process(self, element):\n",
    "    return [(element[3]+\",\"+element[1], 1)]    \n",
    "  \n",
    "class Counting(beam.DoFn):\n",
    "  \n",
    "  def process(self, element):\n",
    "    # return type -> list\n",
    "    (key, values) = element           # [Marco, Accounts  [1,1,1,1....] , Rebekah, Accounts [1,1,1,1,....] ]\n",
    "    return [(key, sum(values))]"
   ]
  },
  {
   "cell_type": "code",
   "execution_count": null,
   "metadata": {},
   "outputs": [],
   "source": [
    "p1 = beam.Pipeline()\n",
    "\n",
    "attendance_count = (\n",
    "    \n",
    "   p1\n",
    "    |beam.io.ReadFromText('dept_data.txt')\n",
    "    \n",
    "    |beam.ParDo(SplitRow())\n",
    "   # | 'Compute WordLength' >> beam.ParDo(lambda element: [ element.split(',') ]) \n",
    "\n",
    "    |beam.ParDo(FilterAccountsEmployee())\n",
    "    |beam.ParDo(PairEmployees())\n",
    "    | 'Group ' >> beam.GroupByKey()\n",
    "    | 'Sum using ParDo' >> beam.ParDo(Counting())  \n",
    "    \n",
    "    # |beam.io.WriteToText('data/output_new_final')\n",
    "    | beam.Map(print)\n",
    "  \n",
    ")\n",
    "\n",
    "p1.run()"
   ]
  }
 ],
 "metadata": {
  "kernelspec": {
   "display_name": "Python 3 (ipykernel)",
   "language": "python",
   "name": "python3"
  },
  "language_info": {
   "codemirror_mode": {
    "name": "ipython",
    "version": 3
   },
   "file_extension": ".py",
   "mimetype": "text/x-python",
   "name": "python",
   "nbconvert_exporter": "python",
   "pygments_lexer": "ipython3",
   "version": "3.11.6"
  }
 },
 "nbformat": 4,
 "nbformat_minor": 2
}
