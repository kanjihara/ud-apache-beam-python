{
 "cells": [
  {
   "cell_type": "code",
   "execution_count": 1,
   "metadata": {},
   "outputs": [],
   "source": [
    "import apache_beam as beam\n"
   ]
  },
  {
   "cell_type": "code",
   "execution_count": null,
   "metadata": {},
   "outputs": [
    {
     "ename": "RuntimeError",
     "evalue": "A transform with label \"[3]: print\" already exists in the pipeline. To apply a transform with a specified label, write pvalue | \"label\" >> transform or use the option \"auto_unique_labels\" to automatically generate unique transform labels. Note \"auto_unique_labels\" could cause data loss when updating a pipeline or reloading the job state. This is not recommended for streaming jobs.",
     "output_type": "error",
     "traceback": [
      "\u001b[0;31m---------------------------------------------------------------------------\u001b[0m",
      "\u001b[0;31mRuntimeError\u001b[0m                              Traceback (most recent call last)",
      "Cell \u001b[0;32mIn[3], line 46\u001b[0m\n\u001b[1;32m     30\u001b[0m input_collection \u001b[38;5;241m=\u001b[39m ( \n\u001b[1;32m     31\u001b[0m                       p \n\u001b[1;32m     32\u001b[0m                       \u001b[38;5;241m|\u001b[39m \u001b[38;5;124m\"\u001b[39m\u001b[38;5;124mRead from text file\u001b[39m\u001b[38;5;124m\"\u001b[39m \u001b[38;5;241m>>\u001b[39m beam\u001b[38;5;241m.\u001b[39mio\u001b[38;5;241m.\u001b[39mReadFromText(\u001b[38;5;124m'\u001b[39m\u001b[38;5;124msection-2/dept_data.txt\u001b[39m\u001b[38;5;124m'\u001b[39m)\n\u001b[1;32m     33\u001b[0m                       \u001b[38;5;241m|\u001b[39m \u001b[38;5;124m\"\u001b[39m\u001b[38;5;124mSplit rows\u001b[39m\u001b[38;5;124m\"\u001b[39m \u001b[38;5;241m>>\u001b[39m beam\u001b[38;5;241m.\u001b[39mMap(SplitRow)\n\u001b[1;32m     34\u001b[0m                    )\n\u001b[1;32m     36\u001b[0m accounts_count \u001b[38;5;241m=\u001b[39m (\n\u001b[1;32m     37\u001b[0m                       input_collection\n\u001b[1;32m     38\u001b[0m                       \u001b[38;5;241m|\u001b[39m \u001b[38;5;124m'\u001b[39m\u001b[38;5;124mGet all Accounts dept persons\u001b[39m\u001b[38;5;124m'\u001b[39m \u001b[38;5;241m>>\u001b[39m beam\u001b[38;5;241m.\u001b[39mFilter(\u001b[38;5;28;01mlambda\u001b[39;00m record: record[\u001b[38;5;241m3\u001b[39m] \u001b[38;5;241m==\u001b[39m \u001b[38;5;124m'\u001b[39m\u001b[38;5;124mAccounts\u001b[39m\u001b[38;5;124m'\u001b[39m)\n\u001b[0;32m   (...)\u001b[0m\n\u001b[1;32m     42\u001b[0m                       \u001b[38;5;241m|\u001b[39m \u001b[38;5;124m'\u001b[39m\u001b[38;5;124mprint\u001b[39m\u001b[38;5;124m'\u001b[39m \u001b[38;5;241m>>\u001b[39m beam\u001b[38;5;241m.\u001b[39mMap(\u001b[38;5;28mprint\u001b[39m)\n\u001b[1;32m     43\u001b[0m                  )\n\u001b[1;32m     45\u001b[0m hr_count \u001b[38;5;241m=\u001b[39m (\n\u001b[0;32m---> 46\u001b[0m                 \u001b[43minput_collection\u001b[49m\n\u001b[1;32m     47\u001b[0m \u001b[43m                \u001b[49m\u001b[38;5;241;43m|\u001b[39;49m\u001b[43m \u001b[49m\u001b[38;5;124;43m'\u001b[39;49m\u001b[38;5;124;43mGet all HR dept persons\u001b[39;49m\u001b[38;5;124;43m'\u001b[39;49m\u001b[43m \u001b[49m\u001b[38;5;241;43m>>\u001b[39;49m\u001b[43m \u001b[49m\u001b[43mbeam\u001b[49m\u001b[38;5;241;43m.\u001b[39;49m\u001b[43mFilter\u001b[49m\u001b[43m(\u001b[49m\u001b[38;5;28;43;01mlambda\u001b[39;49;00m\u001b[43m \u001b[49m\u001b[43mrecord\u001b[49m\u001b[43m:\u001b[49m\u001b[43m \u001b[49m\u001b[43mrecord\u001b[49m\u001b[43m[\u001b[49m\u001b[38;5;241;43m3\u001b[39;49m\u001b[43m]\u001b[49m\u001b[43m \u001b[49m\u001b[38;5;241;43m==\u001b[39;49m\u001b[43m \u001b[49m\u001b[38;5;124;43m'\u001b[39;49m\u001b[38;5;124;43mHR\u001b[39;49m\u001b[38;5;124;43m'\u001b[39;49m\u001b[43m)\u001b[49m\n\u001b[1;32m     48\u001b[0m \u001b[43m                \u001b[49m\u001b[38;5;241;43m|\u001b[39;49m\u001b[43m \u001b[49m\u001b[38;5;124;43m'\u001b[39;49m\u001b[38;5;124;43mPair each hr employee with 1\u001b[39;49m\u001b[38;5;124;43m'\u001b[39;49m\u001b[43m \u001b[49m\u001b[38;5;241;43m>>\u001b[39;49m\u001b[43m \u001b[49m\u001b[43mbeam\u001b[49m\u001b[38;5;241;43m.\u001b[39;49m\u001b[43mMap\u001b[49m\u001b[43m(\u001b[49m\u001b[38;5;28;43;01mlambda\u001b[39;49;00m\u001b[43m \u001b[49m\u001b[43mrecord\u001b[49m\u001b[43m:\u001b[49m\u001b[43m \u001b[49m\u001b[43m(\u001b[49m\u001b[38;5;124;43m\"\u001b[39;49m\u001b[38;5;124;43mHR, \u001b[39;49m\u001b[38;5;124;43m\"\u001b[39;49m\u001b[43m \u001b[49m\u001b[38;5;241;43m+\u001b[39;49m\u001b[43mrecord\u001b[49m\u001b[43m[\u001b[49m\u001b[38;5;241;43m1\u001b[39;49m\u001b[43m]\u001b[49m\u001b[43m,\u001b[49m\u001b[43m \u001b[49m\u001b[38;5;241;43m1\u001b[39;49m\u001b[43m)\u001b[49m\u001b[43m)\u001b[49m\n\u001b[1;32m     49\u001b[0m \u001b[43m                \u001b[49m\u001b[38;5;241;43m|\u001b[39;49m\u001b[43m \u001b[49m\u001b[38;5;124;43m'\u001b[39;49m\u001b[38;5;124;43mcomposite HR\u001b[39;49m\u001b[38;5;124;43m'\u001b[39;49m\u001b[43m \u001b[49m\u001b[38;5;241;43m>>\u001b[39;49m\u001b[43m \u001b[49m\u001b[43mMyTransform\u001b[49m\u001b[43m(\u001b[49m\u001b[43m)\u001b[49m\n\u001b[1;32m     50\u001b[0m \u001b[43m                \u001b[49m\u001b[38;5;66;43;03m# | 'Write results for hr' >> beam.io.WriteToText('data/HR')\u001b[39;49;00m\n\u001b[1;32m     51\u001b[0m \u001b[43m                \u001b[49m\u001b[38;5;241;43m|\u001b[39;49m\u001b[43m \u001b[49m\u001b[38;5;124;43m'\u001b[39;49m\u001b[38;5;124;43mprint\u001b[39;49m\u001b[38;5;124;43m'\u001b[39;49m\u001b[43m \u001b[49m\u001b[38;5;241;43m>>\u001b[39;49m\u001b[43m \u001b[49m\u001b[43mbeam\u001b[49m\u001b[38;5;241;43m.\u001b[39;49m\u001b[43mMap\u001b[49m\u001b[43m(\u001b[49m\u001b[38;5;28;43mprint\u001b[39;49m\u001b[43m)\u001b[49m\n\u001b[1;32m     52\u001b[0m            ) \n\u001b[1;32m     53\u001b[0m p\u001b[38;5;241m.\u001b[39mrun()\n",
      "File \u001b[0;32m/opt/conda/lib/python3.11/site-packages/apache_beam/pvalue.py:138\u001b[0m, in \u001b[0;36mPValue.__or__\u001b[0;34m(self, ptransform)\u001b[0m\n\u001b[1;32m    137\u001b[0m \u001b[38;5;28;01mdef\u001b[39;00m \u001b[38;5;21m__or__\u001b[39m(\u001b[38;5;28mself\u001b[39m, ptransform):\n\u001b[0;32m--> 138\u001b[0m   \u001b[38;5;28;01mreturn\u001b[39;00m \u001b[38;5;28;43mself\u001b[39;49m\u001b[38;5;241;43m.\u001b[39;49m\u001b[43mpipeline\u001b[49m\u001b[38;5;241;43m.\u001b[39;49m\u001b[43mapply\u001b[49m\u001b[43m(\u001b[49m\u001b[43mptransform\u001b[49m\u001b[43m,\u001b[49m\u001b[43m \u001b[49m\u001b[38;5;28;43mself\u001b[39;49m\u001b[43m)\u001b[49m\n",
      "File \u001b[0;32m/opt/conda/lib/python3.11/site-packages/apache_beam/pipeline.py:681\u001b[0m, in \u001b[0;36mPipeline.apply\u001b[0;34m(self, transform, pvalueish, label)\u001b[0m\n\u001b[1;32m    662\u001b[0m \u001b[38;5;250m\u001b[39m\u001b[38;5;124;03m\"\"\"Applies a custom transform using the pvalueish specified.\u001b[39;00m\n\u001b[1;32m    663\u001b[0m \n\u001b[1;32m    664\u001b[0m \u001b[38;5;124;03mArgs:\u001b[39;00m\n\u001b[0;32m   (...)\u001b[0m\n\u001b[1;32m    678\u001b[0m \u001b[38;5;124;03m    this pipeline and needs to be cloned in order to apply again.\u001b[39;00m\n\u001b[1;32m    679\u001b[0m \u001b[38;5;124;03m\"\"\"\u001b[39;00m\n\u001b[1;32m    680\u001b[0m \u001b[38;5;28;01mif\u001b[39;00m \u001b[38;5;28misinstance\u001b[39m(transform, ptransform\u001b[38;5;241m.\u001b[39m_NamedPTransform):\n\u001b[0;32m--> 681\u001b[0m   \u001b[38;5;28;01mreturn\u001b[39;00m \u001b[38;5;28;43mself\u001b[39;49m\u001b[38;5;241;43m.\u001b[39;49m\u001b[43mapply\u001b[49m\u001b[43m(\u001b[49m\n\u001b[1;32m    682\u001b[0m \u001b[43m      \u001b[49m\u001b[43mtransform\u001b[49m\u001b[38;5;241;43m.\u001b[39;49m\u001b[43mtransform\u001b[49m\u001b[43m,\u001b[49m\u001b[43m \u001b[49m\u001b[43mpvalueish\u001b[49m\u001b[43m,\u001b[49m\u001b[43m \u001b[49m\u001b[43mlabel\u001b[49m\u001b[43m \u001b[49m\u001b[38;5;129;43;01mor\u001b[39;49;00m\u001b[43m \u001b[49m\u001b[43mtransform\u001b[49m\u001b[38;5;241;43m.\u001b[39;49m\u001b[43mlabel\u001b[49m\u001b[43m)\u001b[49m\n\u001b[1;32m    684\u001b[0m \u001b[38;5;28;01mif\u001b[39;00m \u001b[38;5;129;01mnot\u001b[39;00m \u001b[38;5;28misinstance\u001b[39m(transform, ptransform\u001b[38;5;241m.\u001b[39mPTransform):\n\u001b[1;32m    685\u001b[0m   \u001b[38;5;28;01mraise\u001b[39;00m \u001b[38;5;167;01mTypeError\u001b[39;00m(\u001b[38;5;124m\"\u001b[39m\u001b[38;5;124mExpected a PTransform object, got \u001b[39m\u001b[38;5;132;01m%s\u001b[39;00m\u001b[38;5;124m\"\u001b[39m \u001b[38;5;241m%\u001b[39m transform)\n",
      "File \u001b[0;32m/opt/conda/lib/python3.11/site-packages/apache_beam/pipeline.py:692\u001b[0m, in \u001b[0;36mPipeline.apply\u001b[0;34m(self, transform, pvalueish, label)\u001b[0m\n\u001b[1;32m    690\u001b[0m old_label, transform\u001b[38;5;241m.\u001b[39mlabel \u001b[38;5;241m=\u001b[39m transform\u001b[38;5;241m.\u001b[39mlabel, label\n\u001b[1;32m    691\u001b[0m \u001b[38;5;28;01mtry\u001b[39;00m:\n\u001b[0;32m--> 692\u001b[0m   \u001b[38;5;28;01mreturn\u001b[39;00m \u001b[38;5;28;43mself\u001b[39;49m\u001b[38;5;241;43m.\u001b[39;49m\u001b[43mapply\u001b[49m\u001b[43m(\u001b[49m\u001b[43mtransform\u001b[49m\u001b[43m,\u001b[49m\u001b[43m \u001b[49m\u001b[43mpvalueish\u001b[49m\u001b[43m)\u001b[49m\n\u001b[1;32m    693\u001b[0m \u001b[38;5;28;01mfinally\u001b[39;00m:\n\u001b[1;32m    694\u001b[0m   transform\u001b[38;5;241m.\u001b[39mlabel \u001b[38;5;241m=\u001b[39m old_label\n",
      "File \u001b[0;32m/opt/conda/lib/python3.11/site-packages/apache_beam/pipeline.py:717\u001b[0m, in \u001b[0;36mPipeline.apply\u001b[0;34m(self, transform, pvalueish, label)\u001b[0m\n\u001b[1;32m    715\u001b[0m     \u001b[38;5;28;01mreturn\u001b[39;00m \u001b[38;5;28mself\u001b[39m\u001b[38;5;241m.\u001b[39mapply(transform, pvalueish, unique_label)\n\u001b[1;32m    716\u001b[0m   \u001b[38;5;28;01melse\u001b[39;00m:\n\u001b[0;32m--> 717\u001b[0m     \u001b[38;5;28;01mraise\u001b[39;00m \u001b[38;5;167;01mRuntimeError\u001b[39;00m(\n\u001b[1;32m    718\u001b[0m         \u001b[38;5;124m'\u001b[39m\u001b[38;5;124mA transform with label \u001b[39m\u001b[38;5;124m\"\u001b[39m\u001b[38;5;132;01m%s\u001b[39;00m\u001b[38;5;124m\"\u001b[39m\u001b[38;5;124m already exists in the pipeline. \u001b[39m\u001b[38;5;124m'\u001b[39m\n\u001b[1;32m    719\u001b[0m         \u001b[38;5;124m'\u001b[39m\u001b[38;5;124mTo apply a transform with a specified label, write \u001b[39m\u001b[38;5;124m'\u001b[39m\n\u001b[1;32m    720\u001b[0m         \u001b[38;5;124m'\u001b[39m\u001b[38;5;124mpvalue | \u001b[39m\u001b[38;5;124m\"\u001b[39m\u001b[38;5;124mlabel\u001b[39m\u001b[38;5;124m\"\u001b[39m\u001b[38;5;124m >> transform or use the option \u001b[39m\u001b[38;5;124m'\u001b[39m\n\u001b[1;32m    721\u001b[0m         \u001b[38;5;124m'\u001b[39m\u001b[38;5;124m\"\u001b[39m\u001b[38;5;124mauto_unique_labels\u001b[39m\u001b[38;5;124m\"\u001b[39m\u001b[38;5;124m to automatically generate unique \u001b[39m\u001b[38;5;124m'\u001b[39m\n\u001b[1;32m    722\u001b[0m         \u001b[38;5;124m'\u001b[39m\u001b[38;5;124mtransform labels. Note \u001b[39m\u001b[38;5;124m\"\u001b[39m\u001b[38;5;124mauto_unique_labels\u001b[39m\u001b[38;5;124m\"\u001b[39m\u001b[38;5;124m \u001b[39m\u001b[38;5;124m'\u001b[39m\n\u001b[1;32m    723\u001b[0m         \u001b[38;5;124m'\u001b[39m\u001b[38;5;124mcould cause data loss when updating a pipeline or \u001b[39m\u001b[38;5;124m'\u001b[39m\n\u001b[1;32m    724\u001b[0m         \u001b[38;5;124m'\u001b[39m\u001b[38;5;124mreloading the job state. This is not recommended for \u001b[39m\u001b[38;5;124m'\u001b[39m\n\u001b[1;32m    725\u001b[0m         \u001b[38;5;124m'\u001b[39m\u001b[38;5;124mstreaming jobs.\u001b[39m\u001b[38;5;124m'\u001b[39m \u001b[38;5;241m%\u001b[39m full_label)\n\u001b[1;32m    726\u001b[0m \u001b[38;5;28mself\u001b[39m\u001b[38;5;241m.\u001b[39mapplied_labels\u001b[38;5;241m.\u001b[39madd(full_label)\n\u001b[1;32m    728\u001b[0m pvalueish, inputs \u001b[38;5;241m=\u001b[39m transform\u001b[38;5;241m.\u001b[39m_extract_input_pvalues(pvalueish)\n",
      "\u001b[0;31mRuntimeError\u001b[0m: A transform with label \"[3]: print\" already exists in the pipeline. To apply a transform with a specified label, write pvalue | \"label\" >> transform or use the option \"auto_unique_labels\" to automatically generate unique transform labels. Note \"auto_unique_labels\" could cause data loss when updating a pipeline or reloading the job state. This is not recommended for streaming jobs."
     ]
    }
   ],
   "source": [
    "class MyTransform(beam.PTransform):\n",
    "  \n",
    "  def expand(self, input_coll):\n",
    "    \n",
    "    a = ( \n",
    "        input_coll\n",
    "        | 'Group and sum1' >> beam.CombinePerKey(sum)\n",
    "        | 'count filter accounts' >> beam.Filter(filter_on_count)\n",
    "        | 'Regular accounts employee' >> beam.Map(format_output)\n",
    "              \n",
    "    )\n",
    "    return a\n",
    "\n",
    "def SplitRow(element):\n",
    "    return element.split(',')\n",
    "  \n",
    "  \n",
    "def filter_on_count(element):\n",
    "  name, count = element\n",
    "  if count > 30:\n",
    "    return element\n",
    "  \n",
    "def format_output(element):\n",
    "  name, count = element\n",
    "  #return ', '.join((name.encode('ascii'),str(count),'Regular employee'))\n",
    "  return ', '.join((name,str(count),'Regular employee'))\n",
    "\n",
    "p = beam.Pipeline()\n",
    "\n",
    "input_collection = ( \n",
    "                      p \n",
    "                      | \"Read from text file\" >> beam.io.ReadFromText('section-2/dept_data.txt')\n",
    "                      | \"Split rows\" >> beam.Map(SplitRow)\n",
    "                   )\n",
    "\n",
    "accounts_count = (\n",
    "                      input_collection\n",
    "                      | 'Get all Accounts dept persons' >> beam.Filter(lambda record: record[3] == 'Accounts')\n",
    "                      | 'Pair each accounts employee with 1' >> beam.Map(lambda record: (\"Accounts, \" +record[1], 1))\n",
    "                      | 'composite accoubts' >> MyTransform()\n",
    "                    #   | 'Write results for account' >> beam.io.WriteToText('data/Account')\n",
    "                      | 'print 1' >> beam.Map(print)\n",
    "                 )\n",
    "\n",
    "hr_count = (\n",
    "                input_collection\n",
    "                | 'Get all HR dept persons' >> beam.Filter(lambda record: record[3] == 'HR')\n",
    "                | 'Pair each hr employee with 1' >> beam.Map(lambda record: (\"HR, \" +record[1], 1))\n",
    "                | 'composite HR' >> MyTransform()\n",
    "                # | 'Write results for hr' >> beam.io.WriteToText('data/HR')\n",
    "                | 'print 2' >> beam.Map(print)\n",
    "           ) \n",
    "p.run()"
   ]
  },
  {
   "cell_type": "code",
   "execution_count": null,
   "metadata": {},
   "outputs": [],
   "source": []
  }
 ],
 "metadata": {
  "kernelspec": {
   "display_name": "Python 3 (ipykernel)",
   "language": "python",
   "name": "python3"
  },
  "language_info": {
   "codemirror_mode": {
    "name": "ipython",
    "version": 3
   },
   "file_extension": ".py",
   "mimetype": "text/x-python",
   "name": "python",
   "nbconvert_exporter": "python",
   "pygments_lexer": "ipython3",
   "version": "3.11.6"
  }
 },
 "nbformat": 4,
 "nbformat_minor": 2
}
