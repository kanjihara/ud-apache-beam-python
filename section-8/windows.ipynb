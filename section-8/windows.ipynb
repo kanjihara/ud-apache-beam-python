{
 "cells": [
  {
   "cell_type": "code",
   "execution_count": 38,
   "metadata": {},
   "outputs": [],
   "source": [
    "import apache_beam as beam\n",
    "from apache_beam.options.pipeline_options import PipelineOptions, StandardOptions\n",
    "import os\n",
    "from apache_beam import window\n",
    "from apache_beam.transforms.trigger import AfterWatermark, AfterProcessingTime, AccumulationMode, AfterCount\n",
    "from datetime import datetime\n",
    "from dotenv import load_dotenv, find_dotenv\n",
    "_ = load_dotenv(find_dotenv())"
   ]
  },
  {
   "cell_type": "code",
   "execution_count": 39,
   "metadata": {},
   "outputs": [
    {
     "name": "stdout",
     "output_type": "stream",
     "text": [
      "Service account file :  key.json\n"
     ]
    }
   ],
   "source": [
    "GCP_PROJECT_ID=os.getenv('GCP_PROJECT_ID')\n",
    "\n",
    "# Replace 'my-service-account-path' with your service account path\n",
    "SERVICE_ACCOUNT_KEY_PATH = \"key.json\"\n",
    "\n",
    "\n",
    "print(\"Service account file : \", SERVICE_ACCOUNT_KEY_PATH)\n",
    "os.environ[\"GOOGLE_APPLICATION_CREDENTIALS\"] = SERVICE_ACCOUNT_KEY_PATH\n",
    "\n",
    "PROJECT_ID = GCP_PROJECT_ID\n",
    "INPUT_SUBSCRIPTION_ADDRESS = f\"projects/{GCP_PROJECT_ID}/subscriptions/poc-apache-beam-sub\"\n",
    "OUTPUT_TOPIC_ADDRESS = f\"projects/{GCP_PROJECT_ID}/topics/apache-beam-bounded\"\n",
    "\n",
    "# print(INPUT_SUBSCRIPTION_ADDRESS)\n",
    "# print(OUTPUT_TOPIC_ADDRESS)\n"
   ]
  },
  {
   "cell_type": "code",
   "execution_count": 40,
   "metadata": {},
   "outputs": [],
   "source": [
    "options = PipelineOptions()\n",
    "options.view_as(StandardOptions).streaming = True\n",
    "\n",
    "p = beam.Pipeline(options=options)\n",
    "\n",
    "def calculateProfit(elements):\n",
    "    \"\"\"Calculates profit by subtracting cost from revenue\"\"\"\n",
    "    try:\n",
    "        revenue = int(elements[6])\n",
    "        cost = int(elements[5])\n",
    "        profit = revenue - cost\n",
    "        return elements + [profit]\n",
    "    except (IndexError, ValueError):\n",
    "        return elements + [0]  # Default profit to 0 in case of issues\n",
    "\n",
    "def custom_timestamp(elements):\n",
    "    \"\"\"Apply a timestamp to the elements\"\"\"\n",
    "    try:\n",
    "        event_timestamp = int(elements[-2])  # Assuming timestamp is second last column\n",
    "        return beam.window.TimestampedValue(elements, event_timestamp)\n",
    "    except (IndexError, ValueError):\n",
    "        return beam.window.TimestampedValue(elements, 0)\n",
    "\n",
    "def encode_byte_string(elements):\n",
    "    \"\"\"Encode elements as byte strings for Pub/Sub\"\"\"\n",
    "    print(elements)\n",
    "    return str(elements).encode('utf-8')"
   ]
  },
  {
   "cell_type": "code",
   "execution_count": null,
   "metadata": {},
   "outputs": [
    {
     "name": "stderr",
     "output_type": "stream",
     "text": [
      "WARNING:apache_beam.options.pipeline_options:Discarding unparseable args: ['-f', '/home/jovyan/.local/share/jupyter/runtime/kernel-9cbb9945-2986-42a5-9f6b-734d0beb1578.json']\n",
      "WARNING:apache_beam.options.pipeline_options:Unknown pipeline options received: -f,/home/jovyan/.local/share/jupyter/runtime/kernel-9cbb9945-2986-42a5-9f6b-734d0beb1578.json. Ignore if flags are used for internal purposes.\n",
      "WARNING:apache_beam.options.pipeline_options:Discarding flag -f, single dash flags are not allowed.\n",
      "WARNING:apache_beam.transforms.core:('No iterator is returned by the process method in %s.', <class 'apache_beam.runners.direct.direct_runner._DirectWriteToPubSubFn'>)\n"
     ]
    }
   ],
   "source": [
    "pubsub_data = (\n",
    "    p \n",
    "    | 'Read from pub sub' >> beam.io.ReadFromPubSub(subscription=INPUT_SUBSCRIPTION_ADDRESS)  \n",
    "    | 'Decode Byte Data' >> beam.Map(lambda data: data.decode('utf-8').strip())  # <-- **Ensure decoding**\n",
    "    | 'Split Row' >> beam.Map(lambda row: row.split(','))  # <-- **Now safe to split**\n",
    "    | 'Filter By Country' >> beam.Filter(lambda elements: len(elements) > 1 and elements[1] in [\"Mumbai\", \"Bangalore\"])  \n",
    "    | 'Create Profit Column' >> beam.Map(calculateProfit)  \n",
    "    | 'Apply custom timestamp' >> beam.Map(custom_timestamp)  \n",
    "    | 'Form Key Value pair' >> beam.Map(lambda elements: (elements[0], int(elements[-1])) if len(elements) > 8 else (elements[0], 0))  \n",
    "    | 'Window' >> beam.WindowInto(window.FixedWindows(20))  \n",
    "    | 'Sum values' >> beam.CombinePerKey(sum)  \n",
    "    | 'Encode to byte string' >> beam.Map(encode_byte_string)  \n",
    "    | 'Write to pub sub' >> beam.io.WriteToPubSub(OUTPUT_TOPIC_ADDRESS)  \n",
    ")\n",
    "\n",
    "result = p.run()\n",
    "result.wait_until_finish()"
   ]
  },
  {
   "cell_type": "code",
   "execution_count": null,
   "metadata": {},
   "outputs": [],
   "source": []
  }
 ],
 "metadata": {
  "kernelspec": {
   "display_name": "Python 3 (ipykernel)",
   "language": "python",
   "name": "python3"
  },
  "language_info": {
   "codemirror_mode": {
    "name": "ipython",
    "version": 3
   },
   "file_extension": ".py",
   "mimetype": "text/x-python",
   "name": "python",
   "nbconvert_exporter": "python",
   "pygments_lexer": "ipython3",
   "version": "3.11.6"
  }
 },
 "nbformat": 4,
 "nbformat_minor": 2
}
