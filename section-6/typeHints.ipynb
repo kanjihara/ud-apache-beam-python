{
 "cells": [
  {
   "cell_type": "code",
   "execution_count": 1,
   "metadata": {},
   "outputs": [],
   "source": [
    "# import beam module\n",
    "import apache_beam as beam"
   ]
  },
  {
   "cell_type": "code",
   "execution_count": 8,
   "metadata": {},
   "outputs": [
    {
     "data": {
      "text/plain": [
       "<apache_beam.runners.portability.fn_api_runner.fn_runner.RunnerResult at 0xffff5f406190>"
      ]
     },
     "execution_count": 8,
     "metadata": {},
     "output_type": "execute_result"
    }
   ],
   "source": [
    "\n",
    "\n",
    "p = beam.Pipeline()\n",
    "\n",
    "@beam.typehints.with_input_types(int)\n",
    "class FilterEvensDoFn(beam.DoFn):\n",
    "  def process(self, element):\n",
    "    if element % 2 == 0:\n",
    "      yield element\n",
    "\n",
    "evens = ( p\n",
    "         | beam.Create(['1','2','3'])\n",
    "         | beam.ParDo(FilterEvensDoFn()) \n",
    "        )\n",
    "  \n",
    "p.run()\n",
    "\n",
    "\n",
    "\n"
   ]
  },
  {
   "cell_type": "code",
   "execution_count": 6,
   "metadata": {},
   "outputs": [
    {
     "ename": "TypeCheckError",
     "evalue": "The transform '[6]: Filter(<lambda at 1278041775.py:5>)' requires PCollections of type '<class 'int'>' but was applied to a PCollection of type '<class 'str'>' (produced by the transform '[6]: Create'). ",
     "output_type": "error",
     "traceback": [
      "\u001b[0;31m---------------------------------------------------------------------------\u001b[0m",
      "\u001b[0;31mTypeCheckError\u001b[0m                            Traceback (most recent call last)",
      "Cell \u001b[0;32mIn[6], line 3\u001b[0m\n\u001b[1;32m      1\u001b[0m p \u001b[38;5;241m=\u001b[39m beam\u001b[38;5;241m.\u001b[39mPipeline()\n\u001b[0;32m----> 3\u001b[0m evens \u001b[38;5;241m=\u001b[39m ( \u001b[43mp\u001b[49m\u001b[43m \u001b[49m\n\u001b[1;32m      4\u001b[0m \u001b[43m         \u001b[49m\u001b[38;5;241;43m|\u001b[39;49m\u001b[43m \u001b[49m\u001b[43mbeam\u001b[49m\u001b[38;5;241;43m.\u001b[39;49m\u001b[43mCreate\u001b[49m\u001b[43m(\u001b[49m\u001b[43m[\u001b[49m\u001b[38;5;124;43m'\u001b[39;49m\u001b[38;5;124;43mone\u001b[39;49m\u001b[38;5;124;43m'\u001b[39;49m\u001b[43m,\u001b[49m\u001b[38;5;124;43m'\u001b[39;49m\u001b[38;5;124;43mtwo\u001b[39;49m\u001b[38;5;124;43m'\u001b[39;49m\u001b[43m,\u001b[49m\u001b[38;5;124;43m'\u001b[39;49m\u001b[38;5;124;43mthree\u001b[39;49m\u001b[38;5;124;43m'\u001b[39;49m\u001b[43m]\u001b[49m\u001b[43m)\u001b[49m\u001b[43m \u001b[49m\n\u001b[1;32m      5\u001b[0m \u001b[43m         \u001b[49m\u001b[38;5;241;43m|\u001b[39;49m\u001b[43m \u001b[49m\u001b[43mbeam\u001b[49m\u001b[38;5;241;43m.\u001b[39;49m\u001b[43mFilter\u001b[49m\u001b[43m(\u001b[49m\u001b[38;5;28;43;01mlambda\u001b[39;49;00m\u001b[43m \u001b[49m\u001b[43mx\u001b[49m\u001b[43m:\u001b[49m\u001b[43m \u001b[49m\u001b[43mx\u001b[49m\u001b[43m \u001b[49m\u001b[38;5;241;43m%\u001b[39;49m\u001b[43m \u001b[49m\u001b[38;5;241;43m2\u001b[39;49m\u001b[43m \u001b[49m\u001b[38;5;241;43m==\u001b[39;49m\u001b[43m \u001b[49m\u001b[38;5;241;43m0\u001b[39;49m\u001b[43m)\u001b[49m\u001b[38;5;241;43m.\u001b[39;49m\u001b[43mwith_input_types\u001b[49m\u001b[43m(\u001b[49m\u001b[38;5;28;43mint\u001b[39;49m\u001b[43m)\u001b[49m \n\u001b[1;32m      6\u001b[0m         )\n\u001b[1;32m      8\u001b[0m p\u001b[38;5;241m.\u001b[39mrun()\n",
      "File \u001b[0;32m/opt/conda/lib/python3.11/site-packages/apache_beam/pvalue.py:138\u001b[0m, in \u001b[0;36mPValue.__or__\u001b[0;34m(self, ptransform)\u001b[0m\n\u001b[1;32m    137\u001b[0m \u001b[38;5;28;01mdef\u001b[39;00m \u001b[38;5;21m__or__\u001b[39m(\u001b[38;5;28mself\u001b[39m, ptransform):\n\u001b[0;32m--> 138\u001b[0m   \u001b[38;5;28;01mreturn\u001b[39;00m \u001b[38;5;28;43mself\u001b[39;49m\u001b[38;5;241;43m.\u001b[39;49m\u001b[43mpipeline\u001b[49m\u001b[38;5;241;43m.\u001b[39;49m\u001b[43mapply\u001b[49m\u001b[43m(\u001b[49m\u001b[43mptransform\u001b[49m\u001b[43m,\u001b[49m\u001b[43m \u001b[49m\u001b[38;5;28;43mself\u001b[39;49m\u001b[43m)\u001b[49m\n",
      "File \u001b[0;32m/opt/conda/lib/python3.11/site-packages/apache_beam/pipeline.py:752\u001b[0m, in \u001b[0;36mPipeline.apply\u001b[0;34m(self, transform, pvalueish, label)\u001b[0m\n\u001b[1;32m    750\u001b[0m type_options \u001b[38;5;241m=\u001b[39m \u001b[38;5;28mself\u001b[39m\u001b[38;5;241m.\u001b[39m_options\u001b[38;5;241m.\u001b[39mview_as(TypeOptions)\n\u001b[1;32m    751\u001b[0m \u001b[38;5;28;01mif\u001b[39;00m type_options\u001b[38;5;241m.\u001b[39mpipeline_type_check:\n\u001b[0;32m--> 752\u001b[0m   \u001b[43mtransform\u001b[49m\u001b[38;5;241;43m.\u001b[39;49m\u001b[43mtype_check_inputs\u001b[49m\u001b[43m(\u001b[49m\u001b[43mpvalueish\u001b[49m\u001b[43m)\u001b[49m\n\u001b[1;32m    754\u001b[0m pvalueish_result \u001b[38;5;241m=\u001b[39m \u001b[38;5;28mself\u001b[39m\u001b[38;5;241m.\u001b[39mrunner\u001b[38;5;241m.\u001b[39mapply(transform, pvalueish, \u001b[38;5;28mself\u001b[39m\u001b[38;5;241m.\u001b[39m_options)\n\u001b[1;32m    756\u001b[0m \u001b[38;5;28;01mif\u001b[39;00m type_options \u001b[38;5;129;01mis\u001b[39;00m \u001b[38;5;129;01mnot\u001b[39;00m \u001b[38;5;28;01mNone\u001b[39;00m \u001b[38;5;129;01mand\u001b[39;00m type_options\u001b[38;5;241m.\u001b[39mpipeline_type_check:\n",
      "File \u001b[0;32m/opt/conda/lib/python3.11/site-packages/apache_beam/transforms/ptransform.py:951\u001b[0m, in \u001b[0;36mPTransformWithSideInputs.type_check_inputs\u001b[0;34m(self, pvalueish)\u001b[0m\n\u001b[1;32m    948\u001b[0m   split_producer_label \u001b[38;5;241m=\u001b[39m pvalueish\u001b[38;5;241m.\u001b[39mproducer\u001b[38;5;241m.\u001b[39mfull_label\u001b[38;5;241m.\u001b[39msplit(\u001b[38;5;124m\"\u001b[39m\u001b[38;5;124m/\u001b[39m\u001b[38;5;124m\"\u001b[39m)\n\u001b[1;32m    949\u001b[0m   producer_label \u001b[38;5;241m=\u001b[39m \u001b[38;5;124m\"\u001b[39m\u001b[38;5;124m/\u001b[39m\u001b[38;5;124m\"\u001b[39m\u001b[38;5;241m.\u001b[39mjoin(\n\u001b[1;32m    950\u001b[0m       split_producer_label[:transform_nest_level \u001b[38;5;241m+\u001b[39m \u001b[38;5;241m1\u001b[39m])\n\u001b[0;32m--> 951\u001b[0m   \u001b[38;5;28;01mraise\u001b[39;00m TypeCheckError(\n\u001b[1;32m    952\u001b[0m       \u001b[38;5;124mf\u001b[39m\u001b[38;5;124m\"\u001b[39m\u001b[38;5;124mThe transform \u001b[39m\u001b[38;5;124m'\u001b[39m\u001b[38;5;132;01m{\u001b[39;00m\u001b[38;5;28mself\u001b[39m\u001b[38;5;241m.\u001b[39mlabel\u001b[38;5;132;01m}\u001b[39;00m\u001b[38;5;124m'\u001b[39m\u001b[38;5;124m requires \u001b[39m\u001b[38;5;124m\"\u001b[39m\n\u001b[1;32m    953\u001b[0m       \u001b[38;5;124mf\u001b[39m\u001b[38;5;124m\"\u001b[39m\u001b[38;5;124mPCollections of type \u001b[39m\u001b[38;5;124m'\u001b[39m\u001b[38;5;132;01m{\u001b[39;00melement_hint\u001b[38;5;132;01m}\u001b[39;00m\u001b[38;5;124m'\u001b[39m\u001b[38;5;124m \u001b[39m\u001b[38;5;124m\"\u001b[39m\n\u001b[1;32m    954\u001b[0m       \u001b[38;5;124mf\u001b[39m\u001b[38;5;124m\"\u001b[39m\u001b[38;5;124mbut was applied to a PCollection of type\u001b[39m\u001b[38;5;124m\"\u001b[39m\n\u001b[1;32m    955\u001b[0m       \u001b[38;5;124mf\u001b[39m\u001b[38;5;124m\"\u001b[39m\u001b[38;5;124m \u001b[39m\u001b[38;5;124m'\u001b[39m\u001b[38;5;132;01m{\u001b[39;00mbindings[element_arg]\u001b[38;5;132;01m}\u001b[39;00m\u001b[38;5;124m'\u001b[39m\u001b[38;5;124m \u001b[39m\u001b[38;5;124m\"\u001b[39m\n\u001b[1;32m    956\u001b[0m       \u001b[38;5;124mf\u001b[39m\u001b[38;5;124m\"\u001b[39m\u001b[38;5;124m(produced by the transform \u001b[39m\u001b[38;5;124m'\u001b[39m\u001b[38;5;132;01m{\u001b[39;00mproducer_label\u001b[38;5;132;01m}\u001b[39;00m\u001b[38;5;124m'\u001b[39m\u001b[38;5;124m). \u001b[39m\u001b[38;5;124m\"\u001b[39m)\n\u001b[1;32m    958\u001b[0m \u001b[38;5;66;03m# Now check the side inputs.\u001b[39;00m\n\u001b[1;32m    959\u001b[0m \u001b[38;5;28;01mfor\u001b[39;00m arg, hint \u001b[38;5;129;01min\u001b[39;00m arg_hints:\n",
      "\u001b[0;31mTypeCheckError\u001b[0m: The transform '[6]: Filter(<lambda at 1278041775.py:5>)' requires PCollections of type '<class 'int'>' but was applied to a PCollection of type '<class 'str'>' (produced by the transform '[6]: Create'). "
     ]
    }
   ],
   "source": [
    "p = beam.Pipeline()\n",
    "\n",
    "evens = ( p \n",
    "         | beam.Create(['one','two','three']) \n",
    "         | beam.Filter(lambda x: x % 2 == 0).with_input_types(int) \n",
    "        )\n",
    "  \n",
    "p.run()"
   ]
  },
  {
   "cell_type": "code",
   "execution_count": null,
   "metadata": {},
   "outputs": [],
   "source": []
  }
 ],
 "metadata": {
  "kernelspec": {
   "display_name": "Python 3 (ipykernel)",
   "language": "python",
   "name": "python3"
  },
  "language_info": {
   "codemirror_mode": {
    "name": "ipython",
    "version": 3
   },
   "file_extension": ".py",
   "mimetype": "text/x-python",
   "name": "python",
   "nbconvert_exporter": "python",
   "pygments_lexer": "ipython3",
   "version": "3.11.6"
  }
 },
 "nbformat": 4,
 "nbformat_minor": 2
}
