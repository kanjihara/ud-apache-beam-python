{
 "cells": [
  {
   "cell_type": "code",
   "execution_count": 1,
   "metadata": {},
   "outputs": [],
   "source": [
    "import apache_beam as beam\n",
    "import typing"
   ]
  },
  {
   "cell_type": "code",
   "execution_count": null,
   "metadata": {},
   "outputs": [],
   "source": [
    "class Employee(object):\n",
    "  def __init__(self, id, name):\n",
    "    self.id = id\n",
    "    self.name = name\n",
    "\n",
    "class EmployeeCoder(beam.coders.Coder):\n",
    "\n",
    "  def encode(self, employee):\n",
    "    return ('%s:%s' % (employee.id, employee.name)).encode('utf-8')\n",
    "\n",
    "  def decode(self, s):\n",
    "    return Employee(*s.decode('utf-8').split(':'))\n",
    "\n",
    "  def is_deterministic(self):\n",
    "    return True\n",
    "\n",
    "beam.coders.registry.register_coder(Employee, EmployeeCoder)\n",
    "\n",
    "def split_file(input):\n",
    "  name, id, salary = input.split(',')\n",
    "  return Employee(id, name), int(salary)\n",
    "\n",
    "result = (\n",
    "    p\n",
    "\t| beam.io.ReadFromText('data.txt')\n",
    "    | beam.Map(split_file)\n",
    "    | beam.CombinePerKey(sum).with_input_types(typing.Tuple[Employee, int])\n",
    "\t)\n",
    "\t\n",
    "p.run()\t"
   ]
  }
 ],
 "metadata": {
  "kernelspec": {
   "display_name": "Python 3 (ipykernel)",
   "language": "python",
   "name": "python3"
  },
  "language_info": {
   "codemirror_mode": {
    "name": "ipython",
    "version": 3
   },
   "file_extension": ".py",
   "mimetype": "text/x-python",
   "name": "python",
   "nbconvert_exporter": "python",
   "pygments_lexer": "ipython3",
   "version": "3.11.6"
  }
 },
 "nbformat": 4,
 "nbformat_minor": 2
}
