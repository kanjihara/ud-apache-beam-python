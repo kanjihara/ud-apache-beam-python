{
 "cells": [
  {
   "cell_type": "code",
   "execution_count": 1,
   "metadata": {},
   "outputs": [],
   "source": [
    "import apache_beam as beam\n"
   ]
  },
  {
   "cell_type": "code",
   "execution_count": 5,
   "metadata": {},
   "outputs": [],
   "source": [
    "def SplitRow(element):\n",
    "    return element.split(',')\n",
    "\n",
    "def filtering(record):\n",
    "  return record[3] == 'Accounts'"
   ]
  },
  {
   "cell_type": "code",
   "execution_count": 9,
   "metadata": {},
   "outputs": [
    {
     "name": "stderr",
     "output_type": "stream",
     "text": [
      "WARNING:apache_beam.io.filebasedsink:Deleting 1 existing files in target path matching: -*-of-%(num_shards)05d\n"
     ]
    },
    {
     "data": {
      "text/plain": [
       "<apache_beam.runners.portability.fn_api_runner.fn_runner.RunnerResult at 0xffff485191d0>"
      ]
     },
     "execution_count": 9,
     "metadata": {},
     "output_type": "execute_result"
    }
   ],
   "source": [
    "p1 = beam.Pipeline()\n",
    "\n",
    "attendance_count = (\n",
    "    \n",
    "   p1\n",
    "    |\"Read from file\" >> beam.io.ReadFromText('section-2/dept_data.txt')\n",
    "    |\"Split row\" >>  beam.Map(SplitRow)\n",
    "   #| beam.Map(lambda record: record.split(','))\n",
    "\n",
    "    |\"Filtering\" >>beam.Filter(filtering)\n",
    "  # |beam.Filter(lambda record: record[3] == 'Accounts')\n",
    "    \n",
    "    |\"Mapping\" >> beam.Map(lambda record: (record[1], 1))\n",
    "    |beam.CombinePerKey(sum)\n",
    "    \n",
    "    |beam.io.WriteToText('data/output_new_final')\n",
    "  \n",
    ")\n",
    "\n",
    "p1.run()\n"
   ]
  },
  {
   "cell_type": "code",
   "execution_count": null,
   "metadata": {},
   "outputs": [],
   "source": []
  }
 ],
 "metadata": {
  "kernelspec": {
   "display_name": "Python 3 (ipykernel)",
   "language": "python",
   "name": "python3"
  }
 },
 "nbformat": 4,
 "nbformat_minor": 2
}
