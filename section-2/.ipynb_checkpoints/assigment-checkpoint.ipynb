{
 "cells": [
  {
   "cell_type": "code",
   "execution_count": 1,
   "metadata": {},
   "outputs": [],
   "source": [
    "import apache_beam as beam"
   ]
  },
  {
   "cell_type": "code",
   "execution_count": 6,
   "metadata": {},
   "outputs": [],
   "source": [
    "p = beam.Pipeline()\n",
    "\n",
    "word_count = (\n",
    "    p\n",
    "    | \"Read file\" >> beam.io.ReadFromText('section-2/data/data.txt')\n",
    "    | \"Split between blank space\" >> beam.Map(lambda line: line.split())\n",
    "    | \"Print results\" >> beam.Map(print)  # Debugging: Print each word\n",
    "    |beam.io.WriteToText('data/output_assigment')\n",
    ")"
   ]
  }
 ],
 "metadata": {
  "kernelspec": {
   "display_name": "Python 3 (ipykernel)",
   "language": "python",
   "name": "python3"
  }
 },
 "nbformat": 4,
 "nbformat_minor": 2
}
