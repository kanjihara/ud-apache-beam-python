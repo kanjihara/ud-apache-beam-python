{
 "cells": [
  {
   "cell_type": "code",
   "execution_count": 1,
   "metadata": {},
   "outputs": [],
   "source": [
    "import apache_beam as beam\n"
   ]
  },
  {
   "cell_type": "code",
   "execution_count": 4,
   "metadata": {},
   "outputs": [
    {
     "name": "stdout",
     "output_type": "stream",
     "text": [
      "Accounts, Marco, 31, Regular employee\n",
      "Accounts, Rebekah, 31, Regular employee\n",
      "Accounts, Itoe, 31, Regular employee\n",
      "Accounts, Edouard, 31, Regular employee\n",
      "Accounts, Kyle, 62, Regular employee\n",
      "Accounts, Kumiko, 31, Regular employee\n",
      "Accounts, Gaston, 31, Regular employee\n",
      "HR, Beryl, 62, Regular employee\n",
      "HR, Olga, 31, Regular employee\n",
      "HR, Leslie, 31, Regular employee\n",
      "HR, Mindy, 31, Regular employee\n",
      "HR, Vicky, 31, Regular employee\n",
      "HR, Richard, 31, Regular employee\n",
      "HR, Kirk, 31, Regular employee\n",
      "HR, Kaori, 31, Regular employee\n",
      "HR, Oscar, 31, Regular employee\n"
     ]
    },
    {
     "data": {
      "text/plain": [
       "<apache_beam.runners.portability.fn_api_runner.fn_runner.RunnerResult at 0xffff304e1f50>"
      ]
     },
     "execution_count": 4,
     "metadata": {},
     "output_type": "execute_result"
    }
   ],
   "source": [
    "class MyTransform(beam.PTransform):\n",
    "  \n",
    "  def expand(self, input_coll):\n",
    "    \n",
    "    a = ( \n",
    "        input_coll\n",
    "        | 'Group and sum1' >> beam.CombinePerKey(sum)\n",
    "        | 'count filter accounts' >> beam.Filter(filter_on_count)\n",
    "        | 'Regular accounts employee' >> beam.Map(format_output)\n",
    "              \n",
    "    )\n",
    "    return a\n",
    "\n",
    "def SplitRow(element):\n",
    "    return element.split(',')\n",
    "  \n",
    "  \n",
    "def filter_on_count(element):\n",
    "  name, count = element\n",
    "  if count > 30:\n",
    "    return element\n",
    "  \n",
    "def format_output(element):\n",
    "  name, count = element\n",
    "  #return ', '.join((name.encode('ascii'),str(count),'Regular employee'))\n",
    "  return ', '.join((name,str(count),'Regular employee'))\n",
    "\n",
    "p = beam.Pipeline()\n",
    "\n",
    "input_collection = ( \n",
    "                      p \n",
    "                      | \"Read from text file\" >> beam.io.ReadFromText('section-2/dept_data.txt')\n",
    "                      | \"Split rows\" >> beam.Map(SplitRow)\n",
    "                   )\n",
    "\n",
    "accounts_count = (\n",
    "                      input_collection\n",
    "                      | 'Get all Accounts dept persons' >> beam.Filter(lambda record: record[3] == 'Accounts')\n",
    "                      | 'Pair each accounts employee with 1' >> beam.Map(lambda record: (\"Accounts, \" +record[1], 1))\n",
    "                      | 'composite accoubts' >> MyTransform()\n",
    "                    #   | 'Write results for account' >> beam.io.WriteToText('data/Account')\n",
    "                      | 'print 1' >> beam.Map(print)\n",
    "                 )\n",
    "\n",
    "hr_count = (\n",
    "                input_collection\n",
    "                | 'Get all HR dept persons' >> beam.Filter(lambda record: record[3] == 'HR')\n",
    "                | 'Pair each hr employee with 1' >> beam.Map(lambda record: (\"HR, \" +record[1], 1))\n",
    "                | 'composite HR' >> MyTransform()\n",
    "                # | 'Write results for hr' >> beam.io.WriteToText('data/HR')\n",
    "                | 'print 2' >> beam.Map(print)\n",
    "           ) \n",
    "p.run()"
   ]
  },
  {
   "cell_type": "code",
   "execution_count": null,
   "metadata": {},
   "outputs": [],
   "source": []
  }
 ],
 "metadata": {
  "kernelspec": {
   "display_name": "Python 3 (ipykernel)",
   "language": "python",
   "name": "python3"
  },
  "language_info": {
   "codemirror_mode": {
    "name": "ipython",
    "version": 3
   },
   "file_extension": ".py",
   "mimetype": "text/x-python",
   "name": "python",
   "nbconvert_exporter": "python",
   "pygments_lexer": "ipython3",
   "version": "3.11.6"
  }
 },
 "nbformat": 4,
 "nbformat_minor": 2
}
