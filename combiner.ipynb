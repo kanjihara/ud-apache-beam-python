{
 "cells": [
  {
   "cell_type": "code",
   "execution_count": 1,
   "metadata": {},
   "outputs": [],
   "source": [
    "import apache_beam as beam\n"
   ]
  },
  {
   "cell_type": "code",
   "execution_count": 4,
   "metadata": {},
   "outputs": [
    {
     "name": "stdout",
     "output_type": "stream",
     "text": [
      "10.5\n"
     ]
    },
    {
     "data": {
      "text/plain": [
       "<apache_beam.runners.portability.fn_api_runner.fn_runner.RunnerResult at 0xffff54518810>"
      ]
     },
     "execution_count": 4,
     "metadata": {},
     "output_type": "execute_result"
    }
   ],
   "source": [
    "class AverageFn(beam.CombineFn):\n",
    "  \n",
    "  def create_accumulator(self):\n",
    "     return (0.0, 0)   # initialize (sum, count)\n",
    "\n",
    "  def add_input(self, sum_count, input):\n",
    "    (sum, count) = sum_count\n",
    "    return sum + input, count + 1\n",
    "\n",
    "  def merge_accumulators(self, accumulators):\n",
    "    \n",
    "    ind_sums, ind_counts = zip(*accumulators)       # zip - [(27, 3), (39, 3), (18, 2)]  -->   [(27,39,18), (3,3,2)]\n",
    "    return sum(ind_sums), sum(ind_counts)        # (84,8)\n",
    "\n",
    "  def extract_output(self, sum_count):    \n",
    "    \n",
    "    (sum, count) = sum_count    # combine globally using CombineFn\n",
    "    return sum / count if count else float('NaN')\n",
    "\n",
    "p = beam.Pipeline() \n",
    "\n",
    "small_sum = (\n",
    "           p \n",
    "            | beam.Create([15,5,7,7,9,23,13,5])\n",
    "            | \"Combine Globally\" >> beam.CombineGlobally(AverageFn()) \n",
    "            # | 'Write results' >> beam.io.WriteToText('data/combine')\n",
    "            | beam.Map(print)\n",
    "          )\n",
    "p.run()"
   ]
  },
  {
   "cell_type": "code",
   "execution_count": null,
   "metadata": {},
   "outputs": [],
   "source": []
  }
 ],
 "metadata": {
  "kernelspec": {
   "display_name": "Python 3 (ipykernel)",
   "language": "python",
   "name": "python3"
  },
  "language_info": {
   "codemirror_mode": {
    "name": "ipython",
    "version": 3
   },
   "file_extension": ".py",
   "mimetype": "text/x-python",
   "name": "python",
   "nbconvert_exporter": "python",
   "pygments_lexer": "ipython3",
   "version": "3.11.6"
  }
 },
 "nbformat": 4,
 "nbformat_minor": 2
}
